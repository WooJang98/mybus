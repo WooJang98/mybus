{
 "cells": [
  {
   "cell_type": "markdown",
   "id": "8b0fb571",
   "metadata": {},
   "source": [
    "## 1. 라이브러리 로드"
   ]
  },
  {
   "cell_type": "code",
   "execution_count": 13,
   "id": "9c3ae799",
   "metadata": {},
   "outputs": [],
   "source": [
    "import os\n",
    "import cv2\n",
    "import json\n",
    "import imgaug as ia\n",
    "from imgaug import augmenters as iaa\n",
    "from imgaug.augmentables.bbs import BoundingBox, BoundingBoxesOnImage"
   ]
  },
  {
   "cell_type": "markdown",
   "id": "3209737a",
   "metadata": {},
   "source": [
    "## 2. 경로 설정"
   ]
  },
  {
   "cell_type": "code",
   "execution_count": 14,
   "id": "77a41d4b",
   "metadata": {},
   "outputs": [],
   "source": [
    "input_image_path = \"C:\\\\Users\\\\rhoms\\\\businside\\\\bus_passenger\\\\Validation\\\\img_allInOne\"\n",
    "input_json_path = \"data/train.json\"\n",
    "output_image_path = \"data/aug_img\"\n",
    "output_json_path = \"data/json\"\n",
    "output_json_path = os.path.join(output_json_path, \"aug_train.json\")\n",
    "\n",
    "# JSON 파일에서 COCO 데이터 불러오기\n",
    "with open(input_json_path, \"r\") as f:\n",
    "    coco_data = json.load(f)"
   ]
  },
  {
   "cell_type": "markdown",
   "id": "5d01fbf4",
   "metadata": {},
   "source": [
    "## 3. 이미지, json 파일 잘 로드되었는지 확인하기"
   ]
  },
  {
   "cell_type": "code",
   "execution_count": 15,
   "id": "7f819c82",
   "metadata": {},
   "outputs": [
    {
     "name": "stdout",
     "output_type": "stream",
     "text": [
      "Image Shape: (1080, 1920, 3)\n"
     ]
    }
   ],
   "source": [
    "# 이미지 정보 가져오기\n",
    "image_info = coco_data[\"images\"][0]\n",
    "\n",
    "# 이미지 파일 경로 생성\n",
    "image_path = os.path.join(input_image_path, image_info[\"file_name\"])\n",
    "\n",
    "# 이미지 파일 읽어오기\n",
    "# Image Shape: (1080, 1920, 3) 이렇게 출력나와야 함\n",
    "if os.path.exists(image_path):\n",
    "    image = cv2.imread(image_path)\n",
    "    if image is not None:\n",
    "        print(\"Image Shape:\", image.shape)\n",
    "    else:\n",
    "        print(\"Failed to read image:\", image_path)\n",
    "else:\n",
    "    print(\"Image file not found:\", image_path)\n"
   ]
  },
  {
   "cell_type": "code",
   "execution_count": 16,
   "id": "6000f275",
   "metadata": {},
   "outputs": [],
   "source": [
    "#print(\"coco data: \", coco_data)"
   ]
  },
  {
   "cell_type": "code",
   "execution_count": 17,
   "id": "b8489260",
   "metadata": {},
   "outputs": [
    {
     "name": "stdout",
     "output_type": "stream",
     "text": [
      "{'height': 1080, 'width': 1920, 'id': 1, 'file_name': 'c:\\\\Users\\\\rhoms\\\\businside\\\\bus_passenger\\\\Validation\\\\img_allInOne\\\\[apt]attend_1776B_285.jpg'}\n"
     ]
    }
   ],
   "source": [
    "image_info = coco_data[\"images\"][0]\n",
    "\n",
    "image_path = os.path.join(input_image_path, image_info[\"file_name\"])\n",
    "image = cv2.imread(image_path)\n",
    "print(image_info)\n"
   ]
  },
  {
   "cell_type": "code",
   "execution_count": 18,
   "id": "4a2db26d",
   "metadata": {},
   "outputs": [
    {
     "name": "stdout",
     "output_type": "stream",
     "text": [
      "Image Path: c:\\Users\\rhoms\\businside\\bus_passenger\\Validation\\img_allInOne\\[apt]attend_1776B_285.jpg\n",
      "Image: [[[ 24  21  36]\n",
      "  [ 24  21  36]\n",
      "  [ 24  21  36]\n",
      "  ...\n",
      "  [  2   0  12]\n",
      "  [  2   1  11]\n",
      "  [  2   1  11]]\n",
      "\n",
      " [[ 24  21  36]\n",
      "  [ 24  21  36]\n",
      "  [ 24  21  36]\n",
      "  ...\n",
      "  [  2   0  12]\n",
      "  [  2   1  11]\n",
      "  [  2   1  11]]\n",
      "\n",
      " [[ 24  21  36]\n",
      "  [ 24  21  36]\n",
      "  [ 24  21  36]\n",
      "  ...\n",
      "  [  2   0  12]\n",
      "  [  2   1  11]\n",
      "  [  2   1  11]]\n",
      "\n",
      " ...\n",
      "\n",
      " [[ 85  94  91]\n",
      "  [ 87  96  93]\n",
      "  [ 90  99  96]\n",
      "  ...\n",
      "  [  2   0  12]\n",
      "  [  0   0  12]\n",
      "  [  0   0  12]]\n",
      "\n",
      " [[ 84  93  90]\n",
      "  [ 87  96  93]\n",
      "  [ 90  99  96]\n",
      "  ...\n",
      "  [  2   0  12]\n",
      "  [  0   0  12]\n",
      "  [  0   0  12]]\n",
      "\n",
      " [[ 85  94  91]\n",
      "  [ 87  96  93]\n",
      "  [ 91 100  97]\n",
      "  ...\n",
      "  [  2   0  12]\n",
      "  [  0   0  12]\n",
      "  [  0   0  12]]]\n"
     ]
    }
   ],
   "source": [
    "print(\"Image Path:\", image_path)\n",
    "image = cv2.imread(image_path)\n",
    "print(\"Image:\", image)\n",
    "# 이미지 3차원으로 나와야 함"
   ]
  },
  {
   "cell_type": "code",
   "execution_count": 19,
   "id": "b9295dc1",
   "metadata": {},
   "outputs": [],
   "source": [
    "# print(\"Image Width:\", image.shape[1])\n",
    "# print(\"Image Height:\", image.shape[0])"
   ]
  },
  {
   "cell_type": "markdown",
   "id": "c7d1c03e",
   "metadata": {},
   "source": [
    "## 4. Augmentation"
   ]
  },
  {
   "cell_type": "code",
   "execution_count": 20,
   "id": "dd71fdce",
   "metadata": {},
   "outputs": [
    {
     "ename": "NameError",
     "evalue": "name 'bbs' is not defined",
     "output_type": "error",
     "traceback": [
      "\u001b[1;31m---------------------------------------------------------------------------\u001b[0m",
      "\u001b[1;31mNameError\u001b[0m                                 Traceback (most recent call last)",
      "Cell \u001b[1;32mIn[20], line 33\u001b[0m\n\u001b[0;32m     30\u001b[0m augmented_annotations \u001b[38;5;241m=\u001b[39m []\n\u001b[0;32m     32\u001b[0m \u001b[38;5;28;01mfor\u001b[39;00m aug \u001b[38;5;129;01min\u001b[39;00m seq:\n\u001b[1;32m---> 33\u001b[0m     augmented_image, augmented_bbs \u001b[38;5;241m=\u001b[39m aug(image\u001b[38;5;241m=\u001b[39mimage, bounding_boxes\u001b[38;5;241m=\u001b[39m\u001b[43mbbs\u001b[49m)\n\u001b[0;32m     34\u001b[0m     augmented_images\u001b[38;5;241m.\u001b[39mappend(augmented_image)\n\u001b[0;32m     35\u001b[0m     augmented_annotations\u001b[38;5;241m.\u001b[39mappend(augmented_bbs)\n",
      "\u001b[1;31mNameError\u001b[0m: name 'bbs' is not defined"
     ]
    }
   ],
   "source": [
    "# 총 7개 aug 기법 적용하기\n",
    "seq = iaa.Sequential([\n",
    "    iaa.Fliplr(0.5),  # 좌우 반전\n",
    "    iaa.GaussianBlur(sigma=(0, 1.0)),  # 가우시안 블러\n",
    "    iaa.MultiplyBrightness((0.7, 1.3)),  # 밝기 조절\n",
    "    iaa.ChangeColorspace(from_colorspace=\"RGB\", to_colorspace=\"HSV\"),\n",
    "    iaa.WithChannels(0, iaa.Add((-30, 30))),  # 색상 조정\n",
    "    iaa.ChangeColorspace(from_colorspace=\"HSV\", to_colorspace=\"RGB\"),\n",
    "    iaa.AdditiveGaussianNoise(scale=(0, 0.1 * 255))  # 가우시안 노이즈 추가\n",
    "])\n",
    "\n",
    "# 이미지와 바운딩 박스 정보에 aug 적용하고 COCO 데이터 형식으로 수정\n",
    "for image_info in coco_data[\"images\"]:\n",
    "    image_path = os.path.join(input_image_path, image_info[\"file_name\"])\n",
    "    image = cv2.imread(image_path)\n",
    "    \n",
    "    # 이미지가 None이라면 스킵\n",
    "    if image is None:\n",
    "        continue\n",
    "    \n",
    "    # 해당 이미지에 대한 바운딩 박스 정보 가져오기\n",
    "    annotations = [ann for ann in coco_data[\"annotations\"] if ann[\"image_id\"] == image_info[\"id\"]]\n",
    "    \n",
    "    # annotations 리스트가 비어있는 경우 스킵\n",
    "    if not annotations:\n",
    "        continue\n",
    "    \n",
    "    # 모든 증강 기법 순차적으로 적용\n",
    "    augmented_images = []\n",
    "    augmented_annotations = []\n",
    "    \n",
    "    for aug in seq:\n",
    "        augmented_image, augmented_bbs = aug(image=image, bounding_boxes=bbs)\n",
    "        augmented_images.append(augmented_image)\n",
    "        augmented_annotations.append(augmented_bbs)\n",
    "    \n",
    "    # 각 증강된 이미지와 바운딩 박스 정보에 대해 저장\n",
    "    for i, augmented_image in enumerate(augmented_images):\n",
    "        output_image_file = os.path.basename(image_info[\"file_name\"]).replace(\".jpg\", f\"_aug_{i}.jpg\")\n",
    "        output_image_path_full = os.path.join(output_image_path, output_image_file)\n",
    "        cv2.imwrite(output_image_path_full, augmented_image)\n",
    "        \n",
    "        # COCO 데이터 형식 수정 (새로운 이미지 정보와 바운딩 박스 정보 추가)\n",
    "        new_image_info = image_info.copy()\n",
    "        new_image_info[\"file_name\"] = output_image_file\n",
    "        new_image_info[\"id\"] = len(coco_data[\"images\"]) + 1\n",
    "        \n",
    "        new_annotations = []\n",
    "        for idx, bb in enumerate(augmented_annotations[i]):\n",
    "            new_ann = annotations[idx].copy()\n",
    "            new_ann[\"bbox\"] = [bb.x1, bb.y1, bb.x2 - bb.x1, bb.y2 - bb.y1]\n",
    "            new_ann[\"id\"] = len(coco_data[\"annotations\"]) + 1 + idx\n",
    "            new_ann[\"image_id\"] = new_image_info[\"id\"]\n",
    "            new_annotations.append(new_ann)\n",
    "        \n",
    "        coco_data[\"images\"].append(new_image_info)\n",
    "        coco_data[\"annotations\"].extend(new_annotations)\n",
    "\n",
    "# 수정된 COCO 데이터 형식을 JSON 파일로 저장\n",
    "with open(output_json_path, \"w\") as f:\n",
    "    json.dump(coco_data, f, indent=4)\n",
    "\n",
    "print(\"finish!\")\n"
   ]
  },
  {
   "cell_type": "code",
   "execution_count": null,
   "id": "fc32cf0f",
   "metadata": {},
   "outputs": [],
   "source": []
  },
  {
   "cell_type": "code",
   "execution_count": null,
   "id": "2be44f28",
   "metadata": {},
   "outputs": [],
   "source": []
  }
 ],
 "metadata": {
  "kernelspec": {
   "display_name": "Python 3 (ipykernel)",
   "language": "python",
   "name": "python3"
  },
  "language_info": {
   "codemirror_mode": {
    "name": "ipython",
    "version": 3
   },
   "file_extension": ".py",
   "mimetype": "text/x-python",
   "name": "python",
   "nbconvert_exporter": "python",
   "pygments_lexer": "ipython3",
   "version": "3.11.2"
  }
 },
 "nbformat": 4,
 "nbformat_minor": 5
}
