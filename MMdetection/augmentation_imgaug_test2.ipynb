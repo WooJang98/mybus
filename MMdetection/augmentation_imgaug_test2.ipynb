{
 "cells": [
  {
   "cell_type": "markdown",
   "id": "8b0fb571",
   "metadata": {},
   "source": [
    "## 1. 라이브러리 로드"
   ]
  },
  {
   "cell_type": "code",
   "execution_count": 9,
   "id": "9c3ae799",
   "metadata": {},
   "outputs": [],
   "source": [
    "import os\n",
    "import cv2\n",
    "import json\n",
    "import imgaug as ia\n",
    "from imgaug import augmenters as iaa\n",
    "from imgaug.augmentables.bbs import BoundingBox, BoundingBoxesOnImage"
   ]
  },
  {
   "cell_type": "markdown",
   "id": "3209737a",
   "metadata": {},
   "source": [
    "## 2. 경로 설정"
   ]
  },
  {
   "cell_type": "code",
   "execution_count": 10,
   "id": "77a41d4b",
   "metadata": {},
   "outputs": [],
   "source": [
    "input_image_path = \"C:\\\\Users\\\\rhoms\\\\businside\\\\bus_passenger\\\\Validation\\\\img_allInOne\"\n",
    "input_json_path = \"data/val.json\"\n",
    "output_image_path = \"data/aug_val_img\"\n",
    "output_json_path = \"data/json\"\n",
    "output_json_path = os.path.join(output_json_path, \"aug_val.json\")\n",
    "\n",
    "# JSON 파일에서 COCO 데이터 불러오기\n",
    "with open(input_json_path, \"r\") as f:\n",
    "    coco_data = json.load(f)"
   ]
  },
  {
   "cell_type": "markdown",
   "id": "5d01fbf4",
   "metadata": {},
   "source": [
    "## 3. 이미지, json 파일 잘 로드되었는지 확인하기"
   ]
  },
  {
   "cell_type": "code",
   "execution_count": 11,
   "id": "7f819c82",
   "metadata": {},
   "outputs": [
    {
     "name": "stdout",
     "output_type": "stream",
     "text": [
      "Image file not found: c:\\Users\\rhoms\\businside\\bus_passenger\\Validation\\img_allInOne\\[district]leave_634C_96.jpg\n"
     ]
    }
   ],
   "source": [
    "# 이미지 정보 가져오기\n",
    "image_info = coco_data[\"images\"][0]\n",
    "\n",
    "# 이미지 파일 경로 생성\n",
    "image_path = os.path.join(input_image_path, image_info[\"file_name\"])\n",
    "\n",
    "# 이미지 파일 읽어오기\n",
    "# Image Shape: (1080, 1920, 3) 이렇게 출력나와야 함\n",
    "if os.path.exists(image_path):\n",
    "    image = cv2.imread(image_path)\n",
    "    if image is not None:\n",
    "        print(\"Image Shape:\", image.shape)\n",
    "    else:\n",
    "        print(\"Failed to read image:\", image_path)\n",
    "else:\n",
    "    print(\"Image file not found:\", image_path)\n"
   ]
  },
  {
   "cell_type": "code",
   "execution_count": 12,
   "id": "6000f275",
   "metadata": {},
   "outputs": [],
   "source": [
    "#print(\"coco data: \", coco_data)"
   ]
  },
  {
   "cell_type": "code",
   "execution_count": 13,
   "id": "b8489260",
   "metadata": {},
   "outputs": [
    {
     "name": "stdout",
     "output_type": "stream",
     "text": [
      "{'height': 1080, 'width': 1920, 'id': 1, 'file_name': 'c:\\\\Users\\\\rhoms\\\\businside\\\\bus_passenger\\\\Validation\\\\img_allInOne\\\\[district]leave_634C_96.jpg'}\n"
     ]
    }
   ],
   "source": [
    "image_info = coco_data[\"images\"][0]\n",
    "\n",
    "image_path = os.path.join(input_image_path, image_info[\"file_name\"])\n",
    "image = cv2.imread(image_path)\n",
    "print(image_info)\n"
   ]
  },
  {
   "cell_type": "code",
   "execution_count": 14,
   "id": "4a2db26d",
   "metadata": {},
   "outputs": [
    {
     "name": "stdout",
     "output_type": "stream",
     "text": [
      "Image Path: c:\\Users\\rhoms\\businside\\bus_passenger\\Validation\\img_allInOne\\[district]leave_634C_96.jpg\n",
      "Image: None\n"
     ]
    }
   ],
   "source": [
    "print(\"Image Path:\", image_path)\n",
    "image = cv2.imread(image_path)\n",
    "print(\"Image:\", image)\n",
    "# 이미지 3차원으로 나와야 함"
   ]
  },
  {
   "cell_type": "code",
   "execution_count": 15,
   "id": "b9295dc1",
   "metadata": {},
   "outputs": [],
   "source": [
    "# print(\"Image Width:\", image.shape[1])\n",
    "# print(\"Image Height:\", image.shape[0])"
   ]
  },
  {
   "cell_type": "markdown",
   "id": "c7d1c03e",
   "metadata": {},
   "source": [
    "## 4. Augmentation"
   ]
  },
  {
   "cell_type": "code",
   "execution_count": 16,
   "id": "dd71fdce",
   "metadata": {},
   "outputs": [
    {
     "name": "stdout",
     "output_type": "stream",
     "text": [
      "finish!\n"
     ]
    }
   ],
   "source": [
    "# 총 7개 aug 기법 적용하기\n",
    "seq = iaa.Sequential([\n",
    "    iaa.Fliplr(0.5),  # 좌우 반전\n",
    "    iaa.GaussianBlur(sigma=(0, 1.0)),  # 가우시안 블러\n",
    "    iaa.MultiplyBrightness((0.7, 1.3)),  # 밝기 조절\n",
    "    iaa.ChangeColorspace(from_colorspace=\"RGB\", to_colorspace=\"HSV\"),\n",
    "    iaa.WithChannels(0, iaa.Add((-30, 30))),  # 색상 조정\n",
    "    iaa.ChangeColorspace(from_colorspace=\"HSV\", to_colorspace=\"RGB\"),\n",
    "    iaa.AdditiveGaussianNoise(scale=(0, 0.1 * 255))  # 가우시안 노이즈 추가\n",
    "])\n",
    "\n",
    "# 이미지와 바운딩 박스 정보에 aug 적용하고 COCO 데이터 형식으로 수정\n",
    "for image_info in coco_data[\"images\"]:\n",
    "    image_path = os.path.join(input_image_path, image_info[\"file_name\"])\n",
    "    image = cv2.imread(image_path)\n",
    "    \n",
    "    # 이미지가 None이라면 스킵\n",
    "    if image is None:\n",
    "        continue\n",
    "    \n",
    "    # 해당 이미지에 대한 바운딩 박스 정보 가져오기\n",
    "    annotations = [ann for ann in coco_data[\"annotations\"] if ann[\"image_id\"] == image_info[\"id\"]]\n",
    "    \n",
    "    # annotations 리스트가 비어있는 경우 스킵\n",
    "    if not annotations:\n",
    "        continue\n",
    "    \n",
    "    # 모든 증강 기법 순차적으로 적용\n",
    "    augmented_images = []\n",
    "    augmented_annotations = []\n",
    "    \n",
    "    for aug in seq:\n",
    "        augmented_annotations_per_aug = []  # 현재 증강 기법에 대한 바운딩 박스 정보 저장 리스트\n",
    "        for ann in annotations:\n",
    "            bbox = BoundingBox(x1=ann[\"bbox\"][0], y1=ann[\"bbox\"][1], x2=ann[\"bbox\"][0] + ann[\"bbox\"][2], y2=ann[\"bbox\"][1] + ann[\"bbox\"][3])\n",
    "            augmented_image, augmented_bbs = aug(image=image, bounding_boxes=[bbox])\n",
    "            augmented_images.append(augmented_image)\n",
    "            augmented_annotations_per_aug.append(augmented_bbs[0])\n",
    "        \n",
    "        augmented_annotations.append(augmented_annotations_per_aug)\n",
    "    \n",
    "    # 각 증강된 이미지와 바운딩 박스 정보에 대해 저장\n",
    "    for i, augmented_image in enumerate(augmented_images):\n",
    "        if i < len(augmented_annotations):  # 인덱스 범위를 초과하지 않도록 체크\n",
    "            output_image_file = os.path.basename(image_info[\"file_name\"]).replace(\".jpg\", f\"_aug_{i}.jpg\")\n",
    "            output_image_path_full = os.path.join(output_image_path, output_image_file)\n",
    "            cv2.imwrite(output_image_path_full, augmented_image)\n",
    "        \n",
    "            for j, augmented_bbs in enumerate(augmented_annotations[i]):\n",
    "                new_image_info = image_info.copy()\n",
    "                new_image_info[\"file_name\"] = output_image_file\n",
    "                new_image_info[\"id\"] = len(coco_data[\"images\"]) + 1\n",
    "            \n",
    "                new_ann = annotations[j].copy()\n",
    "                new_ann[\"bbox\"] = [augmented_bbs.x1, augmented_bbs.y1, augmented_bbs.x2 - augmented_bbs.x1, augmented_bbs.y2 - augmented_bbs.y1]\n",
    "                new_ann[\"id\"] = len(coco_data[\"annotations\"]) + 1 + j\n",
    "                new_ann[\"image_id\"] = new_image_info[\"id\"]\n",
    "            \n",
    "                coco_data[\"images\"].append(new_image_info)\n",
    "                coco_data[\"annotations\"].append(new_ann)\n",
    "\n",
    "# 수정된 COCO 데이터 형식을 JSON 파일로 저장\n",
    "with open(output_json_path, \"w\") as f:\n",
    "    json.dump(coco_data, f, indent=4)\n",
    "\n",
    "print(\"finish!\")\n",
    "\n",
    "\n",
    "\n",
    "\n",
    "\n"
   ]
  },
  {
   "cell_type": "code",
   "execution_count": null,
   "id": "fc32cf0f",
   "metadata": {},
   "outputs": [],
   "source": []
  }
 ],
 "metadata": {
  "kernelspec": {
   "display_name": "Python 3 (ipykernel)",
   "language": "python",
   "name": "python3"
  },
  "language_info": {
   "codemirror_mode": {
    "name": "ipython",
    "version": 3
   },
   "file_extension": ".py",
   "mimetype": "text/x-python",
   "name": "python",
   "nbconvert_exporter": "python",
   "pygments_lexer": "ipython3",
   "version": "3.11.2"
  }
 },
 "nbformat": 4,
 "nbformat_minor": 5
}
