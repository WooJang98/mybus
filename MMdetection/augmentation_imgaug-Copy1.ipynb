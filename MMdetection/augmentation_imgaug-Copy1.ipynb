{
 "cells": [
  {
   "cell_type": "markdown",
   "id": "8b0fb571",
   "metadata": {},
   "source": [
    "## 1. 라이브러리 로드"
   ]
  },
  {
   "cell_type": "code",
   "execution_count": 1,
   "id": "9c3ae799",
   "metadata": {},
   "outputs": [],
   "source": [
    "import os\n",
    "import cv2\n",
    "import json\n",
    "import imgaug as ia\n",
    "from tqdm import tqdm # progress bar 시각화 라이브러리\n",
    "from imgaug import augmenters as iaa\n",
    "from imgaug.augmentables.bbs import BoundingBox, BoundingBoxesOnImage"
   ]
  },
  {
   "cell_type": "markdown",
   "id": "3209737a",
   "metadata": {},
   "source": [
    "## 2. 경로 설정"
   ]
  },
  {
   "cell_type": "code",
   "execution_count": 10,
   "id": "77a41d4b",
   "metadata": {},
   "outputs": [],
   "source": [
    "input_image_path = \"C:\\\\Users\\\\rhoms\\\\businside\\\\bus_passenger\\\\Validation\\\\img\"\n",
    "\n",
    "input_json_path = \"data/val.json\"\n",
    "output_image_path = \"data/aug_val_img\"\n",
    "output_json_path = \"data/json\"\n",
    "output_json_path = os.path.join(output_json_path, \"aug_val.json\")\n",
    "\n",
    "# JSON 파일에서 COCO 데이터 불러오기\n",
    "with open(input_json_path, \"r\") as f:\n",
    "    coco_data = json.load(f)"
   ]
  },
  {
   "cell_type": "markdown",
   "id": "5d01fbf4",
   "metadata": {},
   "source": [
    "## 3. 이미지, json 파일 잘 로드되었는지 확인하기"
   ]
  },
  {
   "cell_type": "code",
   "execution_count": 11,
   "id": "7f819c82",
   "metadata": {},
   "outputs": [
    {
     "name": "stdout",
     "output_type": "stream",
     "text": [
      "\n",
      "Image file not found: c:\\Users\\rhoms\\businside\\bus_passenger\\Validation\\img_allInOne\\[district]leave_634C_96.jpg\n",
      "첫 번째 이미지 파일명: [emergency]accident11_087H_1260.jpg\n"
     ]
    }
   ],
   "source": [
    "# 이미지 정보 가져오기\n",
    "image_info = coco_data[\"images\"][0]\n",
    "\n",
    "# 이미지 파일 경로 생성\n",
    "image_path = os.path.join(input_image_path, image_info[\"file_name\"])\n",
    "print()\n",
    "# 이미지 파일 읽어오기\n",
    "# Image Shape: (1080, 1920, 3) 이렇게 출력나와야 함\n",
    "if os.path.exists(image_path):\n",
    "    image = cv2.imread(image_path)\n",
    "    if image is not None:\n",
    "        print(\"Image Shape:\", image.shape)\n",
    "    else:\n",
    "        print(\"Failed to read image:\", image_path)\n",
    "else:\n",
    "    print(\"Image file not found:\", image_path)\n",
    "\n",
    "# input_image_path 경로 내 첫 번째 이미지 파일명 가져오기\n",
    "image_files = os.listdir(input_image_path)\n",
    "if image_files:\n",
    "    first_image_filename = image_files[0]\n",
    "    print(\"첫 번째 이미지 파일명:\", first_image_filename)\n",
    "else:\n",
    "    print(\"이미지 파일이 없습니다.\")"
   ]
  },
  {
   "cell_type": "code",
   "execution_count": 12,
   "id": "6000f275",
   "metadata": {},
   "outputs": [],
   "source": [
    "#print(\"coco data: \", coco_data)"
   ]
  },
  {
   "cell_type": "code",
   "execution_count": 13,
   "id": "b8489260",
   "metadata": {},
   "outputs": [
    {
     "name": "stdout",
     "output_type": "stream",
     "text": [
      "{'height': 1080, 'width': 1920, 'id': 1, 'file_name': 'c:\\\\Users\\\\rhoms\\\\businside\\\\bus_passenger\\\\Validation\\\\img_allInOne\\\\[district]leave_634C_96.jpg'}\n"
     ]
    }
   ],
   "source": [
    "image_info = coco_data[\"images\"][0]\n",
    "\n",
    "image_path = os.path.join(input_image_path, image_info[\"file_name\"])\n",
    "image = cv2.imread(image_path)\n",
    "print(image_info)\n"
   ]
  },
  {
   "cell_type": "code",
   "execution_count": 14,
   "id": "4a2db26d",
   "metadata": {},
   "outputs": [
    {
     "name": "stdout",
     "output_type": "stream",
     "text": [
      "Image Path: c:\\Users\\rhoms\\businside\\bus_passenger\\Validation\\img_allInOne\\[district]leave_634C_96.jpg\n",
      "Image: None\n"
     ]
    }
   ],
   "source": [
    "print(\"Image Path:\", image_path)\n",
    "image = cv2.imread(image_path)\n",
    "print(\"Image:\", image)\n",
    "# 이미지 3차원으로 나와야 함"
   ]
  },
  {
   "cell_type": "code",
   "execution_count": 15,
   "id": "b9295dc1",
   "metadata": {},
   "outputs": [],
   "source": [
    "# print(\"Image Width:\", image.shape[1])\n",
    "# print(\"Image Height:\", image.shape[0])"
   ]
  },
  {
   "cell_type": "markdown",
   "id": "c7d1c03e",
   "metadata": {},
   "source": [
    "## 4. Augmentation"
   ]
  },
  {
   "cell_type": "code",
   "execution_count": 16,
   "id": "dd71fdce",
   "metadata": {
    "scrolled": true
   },
   "outputs": [
    {
     "name": "stderr",
     "output_type": "stream",
     "text": [
      "Processing images: 100%|█████████████████████████████████████████████████████████████████| 5/5 [00:00<00:00, 17.08it/s]\n"
     ]
    },
    {
     "name": "stdout",
     "output_type": "stream",
     "text": [
      "Starting data augmentation...\n"
     ]
    },
    {
     "name": "stderr",
     "output_type": "stream",
     "text": [
      "Augmenting images: 0it [00:00, ?it/s]\n"
     ]
    },
    {
     "name": "stdout",
     "output_type": "stream",
     "text": [
      "Data augmentation finished.\n"
     ]
    },
    {
     "name": "stderr",
     "output_type": "stream",
     "text": [
      "Processing images: 100%|█████████████████████████████████████████████████████████████████| 5/5 [00:00<00:00, 20.70it/s]\n"
     ]
    },
    {
     "name": "stdout",
     "output_type": "stream",
     "text": [
      "Starting data augmentation...\n"
     ]
    },
    {
     "name": "stderr",
     "output_type": "stream",
     "text": [
      "Augmenting images: 0it [00:00, ?it/s]\n"
     ]
    },
    {
     "name": "stdout",
     "output_type": "stream",
     "text": [
      "Data augmentation finished.\n"
     ]
    },
    {
     "name": "stderr",
     "output_type": "stream",
     "text": [
      "Processing images: 100%|█████████████████████████████████████████████████████████████████| 5/5 [00:00<00:00, 22.70it/s]\n"
     ]
    },
    {
     "name": "stdout",
     "output_type": "stream",
     "text": [
      "Starting data augmentation...\n"
     ]
    },
    {
     "name": "stderr",
     "output_type": "stream",
     "text": [
      "Augmenting images: 0it [00:00, ?it/s]\n"
     ]
    },
    {
     "name": "stdout",
     "output_type": "stream",
     "text": [
      "Data augmentation finished.\n"
     ]
    },
    {
     "name": "stderr",
     "output_type": "stream",
     "text": [
      "Processing images: 100%|█████████████████████████████████████████████████████████████████| 5/5 [00:00<00:00, 23.51it/s]\n"
     ]
    },
    {
     "name": "stdout",
     "output_type": "stream",
     "text": [
      "Starting data augmentation...\n"
     ]
    },
    {
     "name": "stderr",
     "output_type": "stream",
     "text": [
      "Augmenting images: 0it [00:00, ?it/s]\n"
     ]
    },
    {
     "name": "stdout",
     "output_type": "stream",
     "text": [
      "Data augmentation finished.\n"
     ]
    },
    {
     "name": "stderr",
     "output_type": "stream",
     "text": [
      "Processing images: 100%|█████████████████████████████████████████████████████████████████| 5/5 [00:00<00:00, 23.58it/s]\n"
     ]
    },
    {
     "name": "stdout",
     "output_type": "stream",
     "text": [
      "Starting data augmentation...\n"
     ]
    },
    {
     "name": "stderr",
     "output_type": "stream",
     "text": [
      "Augmenting images: 0it [00:00, ?it/s]\n"
     ]
    },
    {
     "name": "stdout",
     "output_type": "stream",
     "text": [
      "Data augmentation finished.\n"
     ]
    },
    {
     "name": "stderr",
     "output_type": "stream",
     "text": [
      "Processing images: 100%|█████████████████████████████████████████████████████████████████| 5/5 [00:00<00:00, 22.80it/s]\n"
     ]
    },
    {
     "name": "stdout",
     "output_type": "stream",
     "text": [
      "Starting data augmentation...\n"
     ]
    },
    {
     "name": "stderr",
     "output_type": "stream",
     "text": [
      "Augmenting images: 0it [00:00, ?it/s]\n"
     ]
    },
    {
     "name": "stdout",
     "output_type": "stream",
     "text": [
      "Data augmentation finished.\n"
     ]
    },
    {
     "name": "stderr",
     "output_type": "stream",
     "text": [
      "Processing images: 100%|█████████████████████████████████████████████████████████████████| 5/5 [00:00<00:00, 21.83it/s]\n"
     ]
    },
    {
     "name": "stdout",
     "output_type": "stream",
     "text": [
      "Starting data augmentation...\n"
     ]
    },
    {
     "name": "stderr",
     "output_type": "stream",
     "text": [
      "Augmenting images: 0it [00:00, ?it/s]\n"
     ]
    },
    {
     "name": "stdout",
     "output_type": "stream",
     "text": [
      "Data augmentation finished.\n",
      "finish!\n"
     ]
    }
   ],
   "source": [
    "# 총 7개 aug 기법 적용하기\n",
    "seq = iaa.Sequential([\n",
    "    iaa.Fliplr(0.5),  # 좌우 반전\n",
    "    iaa.GaussianBlur(sigma=(0, 1.0)),  # 가우시안 블러\n",
    "    iaa.MultiplyBrightness((0.7, 1.3)),  # 밝기 조절\n",
    "    iaa.ChangeColorspace(from_colorspace=\"RGB\", to_colorspace=\"HSV\"),\n",
    "    iaa.WithChannels(0, iaa.Add((-30, 30))),  # 색상 조정\n",
    "    iaa.ChangeColorspace(from_colorspace=\"HSV\", to_colorspace=\"RGB\"),\n",
    "    iaa.AdditiveGaussianNoise(scale=(0, 0.1 * 255))  # 가우시안 노이즈 추가\n",
    "])\n",
    "\n",
    "# 이미 존재하는 annotation id 값들을 기록하는 세트 생성\n",
    "existing_annotation_ids = set(ann[\"id\"] for ann in coco_data[\"annotations\"])\n",
    "\n",
    "# 모든 증강 기법 순차적으로 적용\n",
    "for aug in seq:\n",
    "    augmented_images = []\n",
    "    augmented_annotations = []\n",
    "\n",
    "    image_files = os.listdir(input_image_path)  # 이미지 경로 내의 이미지 파일 목록 가져오기\n",
    "    for image_filename in tqdm(image_files, desc=\"Processing images\"):  # progress bar 추가\n",
    "        image_path = os.path.join(input_image_path, image_filename)\n",
    "        image = cv2.imread(image_path)\n",
    "\n",
    "        if image is None:\n",
    "            continue\n",
    "\n",
    "        image_info = None\n",
    "        for img_info in coco_data[\"images\"]:\n",
    "            if img_info[\"file_name\"] == image_filename:\n",
    "                image_info = img_info\n",
    "                break\n",
    "\n",
    "        if image_info is None:\n",
    "            continue\n",
    "\n",
    "        annotations = [ann for ann in coco_data[\"annotations\"] if ann[\"image_id\"] == image_info[\"id\"]]\n",
    "\n",
    "        if not annotations:\n",
    "            continue\n",
    "\n",
    "        augmented_annotations_per_aug = []  # 현재 증강 기법에 대한 바운딩 박스 정보 저장 리스트\n",
    "        for ann in annotations:\n",
    "            bbox = BoundingBox(x1=ann[\"bbox\"][0], y1=ann[\"bbox\"][1], x2=ann[\"bbox\"][0] + ann[\"bbox\"][2], y2=ann[\"bbox\"][1] + ann[\"bbox\"][3])\n",
    "            augmented_image, augmented_bbs = aug(image=image, bounding_boxes=[bbox])\n",
    "\n",
    "            # 증강된 바운딩 박스 정보를 원본 이미지 크기에 맞게 변환\n",
    "            augmented_bbs = BoundingBox(x1=augmented_bbs[0].x1, y1=augmented_bbs[0].y1, x2=augmented_bbs[0].x2, y2=augmented_bbs[0].y2)\n",
    "            \n",
    "            augmented_images.append(augmented_image)\n",
    "            augmented_annotations_per_aug.append((augmented_bbs, ann))  # 수정된 부분\n",
    "\n",
    "        augmented_annotations.append(augmented_annotations_per_aug)\n",
    "    \n",
    "    for i, augmented_image in enumerate(augmented_images):\n",
    "        output_image_file = \"augmented_{i}.jpg\"\n",
    "        output_image_path_full = os.path.join(output_image_path, output_image_file)\n",
    "        cv2.imwrite(output_image_path_full, augmented_image)\n",
    "\n",
    "    print(\"Starting data augmentation...\")\n",
    "    \n",
    "    for i, augmented_image in enumerate(tqdm(augmented_images, desc=\"Augmenting images\")):\n",
    "        if i < len(augmented_annotations):\n",
    "            image_filename = image_files[i]\n",
    "            output_image_file = image_filename.replace(\".jpg\", f\"_aug_{i}.jpg\")  # 이미지 파일명 수정\n",
    "            output_image_path_full = os.path.join(output_image_path, output_image_file)\n",
    "            cv2.imwrite(output_image_path_full, augmented_image)\n",
    "\n",
    "            for j, (augmented_bbs, annotation) in enumerate(augmented_annotations[i]):  # 수정된 부분\n",
    "                new_image_info = image_info.copy()\n",
    "                new_image_info[\"file_name\"] = output_image_file\n",
    "                new_image_info[\"id\"] = len(coco_data[\"images\"]) + 1\n",
    "\n",
    "                new_ann = annotation.copy()\n",
    "\n",
    "                new_ann[\"bbox\"] = [\n",
    "                    augmented_bbs.x1,  # x1 좌표\n",
    "                    augmented_bbs.y1,  # y1 좌표\n",
    "                    augmented_bbs.x2 - augmented_bbs.x1,  # 너비\n",
    "                    augmented_bbs.y2 - augmented_bbs.y1  # 높이\n",
    "                ]\n",
    "\n",
    "                # 중복되지 않은 annotation id 생성\n",
    "                new_annotation_id = annotation[\"id\"] + len(existing_annotation_ids)\n",
    "                while new_annotation_id in existing_annotation_ids:\n",
    "                    new_annotation_id += 1\n",
    "                existing_annotation_ids.add(new_annotation_id)\n",
    "\n",
    "                new_ann[\"id\"] = new_annotation_id\n",
    "                new_ann[\"image_id\"] = new_image_info[\"id\"]\n",
    "\n",
    "                coco_data[\"images\"].append(new_image_info)\n",
    "                coco_data[\"annotations\"].append(new_ann)\n",
    "\n",
    "    print(\"Data augmentation finished.\")\n",
    "                \n",
    "# 수정된 COCO 데이터 형식을 JSON 파일로 저장\n",
    "with open(output_json_path, \"w\") as f:\n",
    "    json.dump(coco_data, f, indent=4)\n",
    "\n",
    "print(\"finish!\")\n"
   ]
  },
  {
   "cell_type": "code",
   "execution_count": null,
   "id": "fc32cf0f",
   "metadata": {},
   "outputs": [],
   "source": []
  }
 ],
 "metadata": {
  "kernelspec": {
   "display_name": "Python 3 (ipykernel)",
   "language": "python",
   "name": "python3"
  },
  "language_info": {
   "codemirror_mode": {
    "name": "ipython",
    "version": 3
   },
   "file_extension": ".py",
   "mimetype": "text/x-python",
   "name": "python",
   "nbconvert_exporter": "python",
   "pygments_lexer": "ipython3",
   "version": "3.11.2"
  }
 },
 "nbformat": 4,
 "nbformat_minor": 5
}
